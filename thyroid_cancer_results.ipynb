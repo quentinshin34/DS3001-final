{
  "nbformat": 4,
  "nbformat_minor": 0,
  "metadata": {
    "colab": {
      "provenance": [],
      "authorship_tag": "ABX9TyMTCM84nE82ivYjZbOWesv7",
      "include_colab_link": true
    },
    "kernelspec": {
      "name": "python3",
      "display_name": "Python 3"
    },
    "language_info": {
      "name": "python"
    }
  },
  "cells": [
    {
      "cell_type": "markdown",
      "metadata": {
        "id": "view-in-github",
        "colab_type": "text"
      },
      "source": [
        "<a href=\"https://colab.research.google.com/github/quentinshin34/DS3001-final/blob/main/thyroid_cancer_results.ipynb\" target=\"_parent\"><img src=\"https://colab.research.google.com/assets/colab-badge.svg\" alt=\"Open In Colab\"/></a>"
      ]
    },
    {
      "cell_type": "markdown",
      "source": [
        "Results for DS3001 Final Project"
      ],
      "metadata": {
        "id": "Yy-d66tKwLXs"
      }
    },
    {
      "cell_type": "markdown",
      "source": [
        "The goal of this project is to predict thyroid cancer risk based on demographics and clinical variables.\n",
        "\n",
        "The original dataset contained 212,691 observations and 17 variables. Categorical variables with Yes/No responses such as Family History, Radiation Exposure, Smoking, Obesity, and Diabetes, were encoded into binary format (1 = Yes, 0 = No). Multiclass categorical variables such as Gender, Country, and Ethnicity, were one-hot encoded to allow for proper model training. Numeric variables like TSH_level, T3_level, T4_level, and nodule size were standardized to improve the convergence of the model for sensitivity to feature scaling during analysis."
      ],
      "metadata": {
        "id": "yWOsBtmM2oxo"
      }
    },
    {
      "cell_type": "markdown",
      "source": [
        "Two different classification models were used to predict the risk level at high, medium, or low of thyroid cancer: a logistic regression model and a random forest classifier. The data was split into 80% training and 20% testing subsets to evaluate the performance of each model. For the Random Forest, the hyperparameters were tuned minimally to prevent overfitting that can occur in over-specific classifiers."
      ],
      "metadata": {
        "id": "UxwpX2564ecL"
      }
    },
    {
      "cell_type": "markdown",
      "source": [
        "Performance was assessed using classification metrics appropriate for multiclass problems. Accuracy, precision, recall, and F1-score were recorded and compared across the two models. Confusion matrics were also generated show the prediction strength and inaccuracies across the three risk strategies."
      ],
      "metadata": {
        "id": "GXCA9M2Y5BVb"
      }
    },
    {
      "cell_type": "markdown",
      "source": [
        "The Random Forest Classifier model performed better than the Logistic Regression model across each metric recorded. This showed and confirmed the ability of the Random Forest to illustrate non-linear relationships and interactions between various features in the data. It has an accuracy of 78%, about 10% greater than the accuracy of the linear model. The nature of the dataset with many variables and features likely made it too complicated and interconnected for the linear model to accurately handle and predict.\n",
        "\n",
        "*** Add a table with the data"
      ],
      "metadata": {
        "id": "f6cVVdjC5nXe"
      }
    },
    {
      "cell_type": "markdown",
      "source": [
        "The confusion matrix shows that the model most accurately identifies low-risk patients. The most misclassfications occur between medium and high-risk patients, potentially meaning that the boundary between these two classes is harder to identify based on the tested variables in the model. There may be more opportunity to explore this boundary to improve this model in the future."
      ],
      "metadata": {
        "id": "OFBHp1io6VPl"
      }
    },
    {
      "cell_type": "markdown",
      "source": [
        "In this model, larger nodule sizes and abnormal hormone levels (T4 and TSH) are associated with a higher predicted risk of thyroid cancer. Family history and radiation exposure, both known clinical risk factors, are also heavily weighted by the model. The model does not imply that nodule size causes thyroid cancer — rather, it identifies statistical patterns that help predict increased risk."
      ],
      "metadata": {
        "id": "9_0oZBhI6rIT"
      }
    },
    {
      "cell_type": "markdown",
      "source": [
        "MAIN POINTS FOR ADDITIONAL ANALYSIS:\n",
        "1. This analysis only focused on classification metrics, but this was found to be appropriate for this type of prediction question.\n",
        "2. Random forests handle mixed data types and nonlinear relationships better than linear regression, explaing the superior performance in this analysis in comparison\n",
        "3. The confusion matrix highlights potential areas for improvement, maybe using more granular clinical variables.\n",
        "4. This model and our two models do not identify causes of thyroid cancer but identify patterns that lead to higher risk in past patients that will help inform future patients, doctors, and cancer researchers."
      ],
      "metadata": {
        "id": "5a9suqLJ8Msa"
      }
    },
    {
      "cell_type": "code",
      "execution_count": 1,
      "metadata": {
        "colab": {
          "base_uri": "https://localhost:8080/"
        },
        "id": "wk_TzkewwJxd",
        "outputId": "174b1d97-9213-41d8-dc35-ae0207f94917"
      },
      "outputs": [
        {
          "output_type": "stream",
          "name": "stdout",
          "text": [
            "Cloning into 'DS3001-final'...\n",
            "remote: Enumerating objects: 15, done.\u001b[K\n",
            "remote: Counting objects: 100% (15/15), done.\u001b[K\n",
            "remote: Compressing objects: 100% (14/14), done.\u001b[K\n",
            "remote: Total 15 (delta 2), reused 0 (delta 0), pack-reused 0 (from 0)\u001b[K\n",
            "Receiving objects: 100% (15/15), 3.92 MiB | 4.13 MiB/s, done.\n",
            "Resolving deltas: 100% (2/2), done.\n"
          ]
        }
      ],
      "source": [
        "# set up loading data\n",
        "!rm -rf DS3001-final\n",
        "! git clone https://github.com/quentinshin34/DS3001-final.git"
      ]
    },
    {
      "cell_type": "code",
      "source": [
        "import pandas as pd\n",
        "from sklearn.model_selection import train_test_split\n",
        "from sklearn.preprocessing import StandardScaler, OneHotEncoder, LabelEncoder\n",
        "from sklearn.compose import ColumnTransformer\n",
        "from sklearn.pipeline import Pipeline\n",
        "from sklearn.ensemble import RandomForestClassifier\n",
        "from sklearn.linear_model import LogisticRegression\n",
        "from sklearn.metrics import classification_report, confusion_matrix, ConfusionMatrixDisplay\n",
        "import matplotlib.pyplot as plt\n",
        "import seaborn as sns\n",
        "import numpy as np"
      ],
      "metadata": {
        "id": "nHVDK4qQw_8w"
      },
      "execution_count": 2,
      "outputs": []
    },
    {
      "cell_type": "code",
      "source": [
        "# load data into data frame\n",
        "data = \"DS3001-final/thyroid_cancer_risk_data.csv\"\n",
        "df = pd.read_csv(data)\n",
        "\n",
        "print(df.head())"
      ],
      "metadata": {
        "colab": {
          "base_uri": "https://localhost:8080/"
        },
        "id": "6B-gar1hxLAj",
        "outputId": "7fc05844-3cd0-418e-db7c-e5f5ae69f7a3"
      },
      "execution_count": 3,
      "outputs": [
        {
          "output_type": "stream",
          "name": "stdout",
          "text": [
            "   Patient_ID  Age  Gender  Country  Ethnicity Family_History  \\\n",
            "0           1   66    Male   Russia  Caucasian             No   \n",
            "1           2   29    Male  Germany   Hispanic             No   \n",
            "2           3   86    Male  Nigeria  Caucasian             No   \n",
            "3           4   75  Female    India      Asian             No   \n",
            "4           5   35  Female  Germany    African            Yes   \n",
            "\n",
            "  Radiation_Exposure Iodine_Deficiency Smoking Obesity Diabetes  TSH_Level  \\\n",
            "0                Yes                No      No      No       No       9.37   \n",
            "1                Yes                No      No      No       No       1.83   \n",
            "2                 No                No      No      No       No       6.26   \n",
            "3                 No                No      No      No       No       4.10   \n",
            "4                Yes                No      No      No       No       9.10   \n",
            "\n",
            "   T3_Level  T4_Level  Nodule_Size Thyroid_Cancer_Risk Diagnosis  \n",
            "0      1.67      6.16         1.08                 Low    Benign  \n",
            "1      1.73     10.54         4.05                 Low    Benign  \n",
            "2      2.59     10.57         4.61                 Low    Benign  \n",
            "3      2.62     11.04         2.46              Medium    Benign  \n",
            "4      2.11     10.71         2.11                High    Benign  \n"
          ]
        }
      ]
    },
    {
      "cell_type": "code",
      "source": [
        "data = df.copy()\n",
        "data = data.drop(columns=['Patient_ID', 'Diagnosis'])\n",
        "\n",
        "# encode\n",
        "label_encoder = LabelEncoder()\n",
        "data['Thyroid_Cancer_Risk'] = label_encoder.fit_transform(data['Thyroid_Cancer_Risk'])\n",
        "\n",
        "# group  countries and ethnicities\n",
        "top_countries = data['Country'].value_counts().nlargest(10).index\n",
        "data['Country'] = data['Country'].where(data['Country'].isin(top_countries), 'Other')\n",
        "\n",
        "top_ethnicities = data['Ethnicity'].value_counts().nlargest(10).index\n",
        "data['Ethnicity'] = data['Ethnicity'].where(data['Ethnicity'].isin(top_ethnicities), 'Other')"
      ],
      "metadata": {
        "id": "ByC7Tj-mxVia"
      },
      "execution_count": 4,
      "outputs": []
    },
    {
      "cell_type": "code",
      "source": [
        "# define the features and organize columns by type\n",
        "X = data.drop('Thyroid_Cancer_Risk', axis=1)\n",
        "y = data['Thyroid_Cancer_Risk']\n",
        "\n",
        "binary_cols = ['Family_History', 'Radiation_Exposure', 'Iodine_Deficiency', 'Smoking', 'Obesity', 'Diabetes']\n",
        "categorical_cols = ['Gender', 'Country', 'Ethnicity']\n",
        "numeric_cols = ['Age', 'TSH_Level', 'T3_Level', 'T4_Level', 'Nodule_Size']"
      ],
      "metadata": {
        "id": "ESHQJnXjxau1"
      },
      "execution_count": 5,
      "outputs": []
    },
    {
      "cell_type": "code",
      "source": [
        "# pre processor for encoding\n",
        "preprocessor = ColumnTransformer(transformers=[\n",
        "    ('binary', OneHotEncoder(drop='if_binary'), binary_cols),\n",
        "    ('categorical', OneHotEncoder(drop='first'), categorical_cols),\n",
        "    ('numeric', StandardScaler(), numeric_cols)\n",
        "])\n",
        "\n",
        "#  80-20 Train-test split\n",
        "X_train, X_test, y_train, y_test = train_test_split(X, y, test_size=0.2, random_state=42, stratify=y)\n"
      ],
      "metadata": {
        "id": "qmIhexcxxfs3"
      },
      "execution_count": 6,
      "outputs": []
    },
    {
      "cell_type": "markdown",
      "source": [],
      "metadata": {
        "id": "0LhUI17NwKeb"
      }
    },
    {
      "cell_type": "code",
      "source": [
        "# Pipelines and show\n",
        "logreg_pipeline = Pipeline([\n",
        "    ('preprocessor', preprocessor),\n",
        "    ('classifier', LogisticRegression(max_iter=1000))\n",
        "])\n",
        "\n",
        "rf_pipeline = Pipeline([\n",
        "    ('preprocessor', preprocessor),\n",
        "    ('classifier', RandomForestClassifier(n_estimators=50, random_state=42))  # Fewer trees to avoid memory issues\n",
        "])\n",
        "\n",
        "logreg_pipeline.fit(X_train, y_train)\n",
        "rf_pipeline.fit(X_train, y_train)"
      ],
      "metadata": {
        "colab": {
          "base_uri": "https://localhost:8080/",
          "height": 248
        },
        "id": "1bC1FyWoxiQt",
        "outputId": "2c2a9085-524c-4f6f-d563-14d4e95a76cc"
      },
      "execution_count": 7,
      "outputs": [
        {
          "output_type": "execute_result",
          "data": {
            "text/plain": [
              "Pipeline(steps=[('preprocessor',\n",
              "                 ColumnTransformer(transformers=[('binary',\n",
              "                                                  OneHotEncoder(drop='if_binary'),\n",
              "                                                  ['Family_History',\n",
              "                                                   'Radiation_Exposure',\n",
              "                                                   'Iodine_Deficiency',\n",
              "                                                   'Smoking', 'Obesity',\n",
              "                                                   'Diabetes']),\n",
              "                                                 ('categorical',\n",
              "                                                  OneHotEncoder(drop='first'),\n",
              "                                                  ['Gender', 'Country',\n",
              "                                                   'Ethnicity']),\n",
              "                                                 ('numeric', StandardScaler(),\n",
              "                                                  ['Age', 'TSH_Level',\n",
              "                                                   'T3_Level', 'T4_Level',\n",
              "                                                   'Nodule_Size'])])),\n",
              "                ('classifier',\n",
              "                 RandomForestClassifier(n_estimators=50, random_state=42))])"
            ],
            "text/html": [
              "<style>#sk-container-id-1 {\n",
              "  /* Definition of color scheme common for light and dark mode */\n",
              "  --sklearn-color-text: #000;\n",
              "  --sklearn-color-text-muted: #666;\n",
              "  --sklearn-color-line: gray;\n",
              "  /* Definition of color scheme for unfitted estimators */\n",
              "  --sklearn-color-unfitted-level-0: #fff5e6;\n",
              "  --sklearn-color-unfitted-level-1: #f6e4d2;\n",
              "  --sklearn-color-unfitted-level-2: #ffe0b3;\n",
              "  --sklearn-color-unfitted-level-3: chocolate;\n",
              "  /* Definition of color scheme for fitted estimators */\n",
              "  --sklearn-color-fitted-level-0: #f0f8ff;\n",
              "  --sklearn-color-fitted-level-1: #d4ebff;\n",
              "  --sklearn-color-fitted-level-2: #b3dbfd;\n",
              "  --sklearn-color-fitted-level-3: cornflowerblue;\n",
              "\n",
              "  /* Specific color for light theme */\n",
              "  --sklearn-color-text-on-default-background: var(--sg-text-color, var(--theme-code-foreground, var(--jp-content-font-color1, black)));\n",
              "  --sklearn-color-background: var(--sg-background-color, var(--theme-background, var(--jp-layout-color0, white)));\n",
              "  --sklearn-color-border-box: var(--sg-text-color, var(--theme-code-foreground, var(--jp-content-font-color1, black)));\n",
              "  --sklearn-color-icon: #696969;\n",
              "\n",
              "  @media (prefers-color-scheme: dark) {\n",
              "    /* Redefinition of color scheme for dark theme */\n",
              "    --sklearn-color-text-on-default-background: var(--sg-text-color, var(--theme-code-foreground, var(--jp-content-font-color1, white)));\n",
              "    --sklearn-color-background: var(--sg-background-color, var(--theme-background, var(--jp-layout-color0, #111)));\n",
              "    --sklearn-color-border-box: var(--sg-text-color, var(--theme-code-foreground, var(--jp-content-font-color1, white)));\n",
              "    --sklearn-color-icon: #878787;\n",
              "  }\n",
              "}\n",
              "\n",
              "#sk-container-id-1 {\n",
              "  color: var(--sklearn-color-text);\n",
              "}\n",
              "\n",
              "#sk-container-id-1 pre {\n",
              "  padding: 0;\n",
              "}\n",
              "\n",
              "#sk-container-id-1 input.sk-hidden--visually {\n",
              "  border: 0;\n",
              "  clip: rect(1px 1px 1px 1px);\n",
              "  clip: rect(1px, 1px, 1px, 1px);\n",
              "  height: 1px;\n",
              "  margin: -1px;\n",
              "  overflow: hidden;\n",
              "  padding: 0;\n",
              "  position: absolute;\n",
              "  width: 1px;\n",
              "}\n",
              "\n",
              "#sk-container-id-1 div.sk-dashed-wrapped {\n",
              "  border: 1px dashed var(--sklearn-color-line);\n",
              "  margin: 0 0.4em 0.5em 0.4em;\n",
              "  box-sizing: border-box;\n",
              "  padding-bottom: 0.4em;\n",
              "  background-color: var(--sklearn-color-background);\n",
              "}\n",
              "\n",
              "#sk-container-id-1 div.sk-container {\n",
              "  /* jupyter's `normalize.less` sets `[hidden] { display: none; }`\n",
              "     but bootstrap.min.css set `[hidden] { display: none !important; }`\n",
              "     so we also need the `!important` here to be able to override the\n",
              "     default hidden behavior on the sphinx rendered scikit-learn.org.\n",
              "     See: https://github.com/scikit-learn/scikit-learn/issues/21755 */\n",
              "  display: inline-block !important;\n",
              "  position: relative;\n",
              "}\n",
              "\n",
              "#sk-container-id-1 div.sk-text-repr-fallback {\n",
              "  display: none;\n",
              "}\n",
              "\n",
              "div.sk-parallel-item,\n",
              "div.sk-serial,\n",
              "div.sk-item {\n",
              "  /* draw centered vertical line to link estimators */\n",
              "  background-image: linear-gradient(var(--sklearn-color-text-on-default-background), var(--sklearn-color-text-on-default-background));\n",
              "  background-size: 2px 100%;\n",
              "  background-repeat: no-repeat;\n",
              "  background-position: center center;\n",
              "}\n",
              "\n",
              "/* Parallel-specific style estimator block */\n",
              "\n",
              "#sk-container-id-1 div.sk-parallel-item::after {\n",
              "  content: \"\";\n",
              "  width: 100%;\n",
              "  border-bottom: 2px solid var(--sklearn-color-text-on-default-background);\n",
              "  flex-grow: 1;\n",
              "}\n",
              "\n",
              "#sk-container-id-1 div.sk-parallel {\n",
              "  display: flex;\n",
              "  align-items: stretch;\n",
              "  justify-content: center;\n",
              "  background-color: var(--sklearn-color-background);\n",
              "  position: relative;\n",
              "}\n",
              "\n",
              "#sk-container-id-1 div.sk-parallel-item {\n",
              "  display: flex;\n",
              "  flex-direction: column;\n",
              "}\n",
              "\n",
              "#sk-container-id-1 div.sk-parallel-item:first-child::after {\n",
              "  align-self: flex-end;\n",
              "  width: 50%;\n",
              "}\n",
              "\n",
              "#sk-container-id-1 div.sk-parallel-item:last-child::after {\n",
              "  align-self: flex-start;\n",
              "  width: 50%;\n",
              "}\n",
              "\n",
              "#sk-container-id-1 div.sk-parallel-item:only-child::after {\n",
              "  width: 0;\n",
              "}\n",
              "\n",
              "/* Serial-specific style estimator block */\n",
              "\n",
              "#sk-container-id-1 div.sk-serial {\n",
              "  display: flex;\n",
              "  flex-direction: column;\n",
              "  align-items: center;\n",
              "  background-color: var(--sklearn-color-background);\n",
              "  padding-right: 1em;\n",
              "  padding-left: 1em;\n",
              "}\n",
              "\n",
              "\n",
              "/* Toggleable style: style used for estimator/Pipeline/ColumnTransformer box that is\n",
              "clickable and can be expanded/collapsed.\n",
              "- Pipeline and ColumnTransformer use this feature and define the default style\n",
              "- Estimators will overwrite some part of the style using the `sk-estimator` class\n",
              "*/\n",
              "\n",
              "/* Pipeline and ColumnTransformer style (default) */\n",
              "\n",
              "#sk-container-id-1 div.sk-toggleable {\n",
              "  /* Default theme specific background. It is overwritten whether we have a\n",
              "  specific estimator or a Pipeline/ColumnTransformer */\n",
              "  background-color: var(--sklearn-color-background);\n",
              "}\n",
              "\n",
              "/* Toggleable label */\n",
              "#sk-container-id-1 label.sk-toggleable__label {\n",
              "  cursor: pointer;\n",
              "  display: flex;\n",
              "  width: 100%;\n",
              "  margin-bottom: 0;\n",
              "  padding: 0.5em;\n",
              "  box-sizing: border-box;\n",
              "  text-align: center;\n",
              "  align-items: start;\n",
              "  justify-content: space-between;\n",
              "  gap: 0.5em;\n",
              "}\n",
              "\n",
              "#sk-container-id-1 label.sk-toggleable__label .caption {\n",
              "  font-size: 0.6rem;\n",
              "  font-weight: lighter;\n",
              "  color: var(--sklearn-color-text-muted);\n",
              "}\n",
              "\n",
              "#sk-container-id-1 label.sk-toggleable__label-arrow:before {\n",
              "  /* Arrow on the left of the label */\n",
              "  content: \"▸\";\n",
              "  float: left;\n",
              "  margin-right: 0.25em;\n",
              "  color: var(--sklearn-color-icon);\n",
              "}\n",
              "\n",
              "#sk-container-id-1 label.sk-toggleable__label-arrow:hover:before {\n",
              "  color: var(--sklearn-color-text);\n",
              "}\n",
              "\n",
              "/* Toggleable content - dropdown */\n",
              "\n",
              "#sk-container-id-1 div.sk-toggleable__content {\n",
              "  max-height: 0;\n",
              "  max-width: 0;\n",
              "  overflow: hidden;\n",
              "  text-align: left;\n",
              "  /* unfitted */\n",
              "  background-color: var(--sklearn-color-unfitted-level-0);\n",
              "}\n",
              "\n",
              "#sk-container-id-1 div.sk-toggleable__content.fitted {\n",
              "  /* fitted */\n",
              "  background-color: var(--sklearn-color-fitted-level-0);\n",
              "}\n",
              "\n",
              "#sk-container-id-1 div.sk-toggleable__content pre {\n",
              "  margin: 0.2em;\n",
              "  border-radius: 0.25em;\n",
              "  color: var(--sklearn-color-text);\n",
              "  /* unfitted */\n",
              "  background-color: var(--sklearn-color-unfitted-level-0);\n",
              "}\n",
              "\n",
              "#sk-container-id-1 div.sk-toggleable__content.fitted pre {\n",
              "  /* unfitted */\n",
              "  background-color: var(--sklearn-color-fitted-level-0);\n",
              "}\n",
              "\n",
              "#sk-container-id-1 input.sk-toggleable__control:checked~div.sk-toggleable__content {\n",
              "  /* Expand drop-down */\n",
              "  max-height: 200px;\n",
              "  max-width: 100%;\n",
              "  overflow: auto;\n",
              "}\n",
              "\n",
              "#sk-container-id-1 input.sk-toggleable__control:checked~label.sk-toggleable__label-arrow:before {\n",
              "  content: \"▾\";\n",
              "}\n",
              "\n",
              "/* Pipeline/ColumnTransformer-specific style */\n",
              "\n",
              "#sk-container-id-1 div.sk-label input.sk-toggleable__control:checked~label.sk-toggleable__label {\n",
              "  color: var(--sklearn-color-text);\n",
              "  background-color: var(--sklearn-color-unfitted-level-2);\n",
              "}\n",
              "\n",
              "#sk-container-id-1 div.sk-label.fitted input.sk-toggleable__control:checked~label.sk-toggleable__label {\n",
              "  background-color: var(--sklearn-color-fitted-level-2);\n",
              "}\n",
              "\n",
              "/* Estimator-specific style */\n",
              "\n",
              "/* Colorize estimator box */\n",
              "#sk-container-id-1 div.sk-estimator input.sk-toggleable__control:checked~label.sk-toggleable__label {\n",
              "  /* unfitted */\n",
              "  background-color: var(--sklearn-color-unfitted-level-2);\n",
              "}\n",
              "\n",
              "#sk-container-id-1 div.sk-estimator.fitted input.sk-toggleable__control:checked~label.sk-toggleable__label {\n",
              "  /* fitted */\n",
              "  background-color: var(--sklearn-color-fitted-level-2);\n",
              "}\n",
              "\n",
              "#sk-container-id-1 div.sk-label label.sk-toggleable__label,\n",
              "#sk-container-id-1 div.sk-label label {\n",
              "  /* The background is the default theme color */\n",
              "  color: var(--sklearn-color-text-on-default-background);\n",
              "}\n",
              "\n",
              "/* On hover, darken the color of the background */\n",
              "#sk-container-id-1 div.sk-label:hover label.sk-toggleable__label {\n",
              "  color: var(--sklearn-color-text);\n",
              "  background-color: var(--sklearn-color-unfitted-level-2);\n",
              "}\n",
              "\n",
              "/* Label box, darken color on hover, fitted */\n",
              "#sk-container-id-1 div.sk-label.fitted:hover label.sk-toggleable__label.fitted {\n",
              "  color: var(--sklearn-color-text);\n",
              "  background-color: var(--sklearn-color-fitted-level-2);\n",
              "}\n",
              "\n",
              "/* Estimator label */\n",
              "\n",
              "#sk-container-id-1 div.sk-label label {\n",
              "  font-family: monospace;\n",
              "  font-weight: bold;\n",
              "  display: inline-block;\n",
              "  line-height: 1.2em;\n",
              "}\n",
              "\n",
              "#sk-container-id-1 div.sk-label-container {\n",
              "  text-align: center;\n",
              "}\n",
              "\n",
              "/* Estimator-specific */\n",
              "#sk-container-id-1 div.sk-estimator {\n",
              "  font-family: monospace;\n",
              "  border: 1px dotted var(--sklearn-color-border-box);\n",
              "  border-radius: 0.25em;\n",
              "  box-sizing: border-box;\n",
              "  margin-bottom: 0.5em;\n",
              "  /* unfitted */\n",
              "  background-color: var(--sklearn-color-unfitted-level-0);\n",
              "}\n",
              "\n",
              "#sk-container-id-1 div.sk-estimator.fitted {\n",
              "  /* fitted */\n",
              "  background-color: var(--sklearn-color-fitted-level-0);\n",
              "}\n",
              "\n",
              "/* on hover */\n",
              "#sk-container-id-1 div.sk-estimator:hover {\n",
              "  /* unfitted */\n",
              "  background-color: var(--sklearn-color-unfitted-level-2);\n",
              "}\n",
              "\n",
              "#sk-container-id-1 div.sk-estimator.fitted:hover {\n",
              "  /* fitted */\n",
              "  background-color: var(--sklearn-color-fitted-level-2);\n",
              "}\n",
              "\n",
              "/* Specification for estimator info (e.g. \"i\" and \"?\") */\n",
              "\n",
              "/* Common style for \"i\" and \"?\" */\n",
              "\n",
              ".sk-estimator-doc-link,\n",
              "a:link.sk-estimator-doc-link,\n",
              "a:visited.sk-estimator-doc-link {\n",
              "  float: right;\n",
              "  font-size: smaller;\n",
              "  line-height: 1em;\n",
              "  font-family: monospace;\n",
              "  background-color: var(--sklearn-color-background);\n",
              "  border-radius: 1em;\n",
              "  height: 1em;\n",
              "  width: 1em;\n",
              "  text-decoration: none !important;\n",
              "  margin-left: 0.5em;\n",
              "  text-align: center;\n",
              "  /* unfitted */\n",
              "  border: var(--sklearn-color-unfitted-level-1) 1pt solid;\n",
              "  color: var(--sklearn-color-unfitted-level-1);\n",
              "}\n",
              "\n",
              ".sk-estimator-doc-link.fitted,\n",
              "a:link.sk-estimator-doc-link.fitted,\n",
              "a:visited.sk-estimator-doc-link.fitted {\n",
              "  /* fitted */\n",
              "  border: var(--sklearn-color-fitted-level-1) 1pt solid;\n",
              "  color: var(--sklearn-color-fitted-level-1);\n",
              "}\n",
              "\n",
              "/* On hover */\n",
              "div.sk-estimator:hover .sk-estimator-doc-link:hover,\n",
              ".sk-estimator-doc-link:hover,\n",
              "div.sk-label-container:hover .sk-estimator-doc-link:hover,\n",
              ".sk-estimator-doc-link:hover {\n",
              "  /* unfitted */\n",
              "  background-color: var(--sklearn-color-unfitted-level-3);\n",
              "  color: var(--sklearn-color-background);\n",
              "  text-decoration: none;\n",
              "}\n",
              "\n",
              "div.sk-estimator.fitted:hover .sk-estimator-doc-link.fitted:hover,\n",
              ".sk-estimator-doc-link.fitted:hover,\n",
              "div.sk-label-container:hover .sk-estimator-doc-link.fitted:hover,\n",
              ".sk-estimator-doc-link.fitted:hover {\n",
              "  /* fitted */\n",
              "  background-color: var(--sklearn-color-fitted-level-3);\n",
              "  color: var(--sklearn-color-background);\n",
              "  text-decoration: none;\n",
              "}\n",
              "\n",
              "/* Span, style for the box shown on hovering the info icon */\n",
              ".sk-estimator-doc-link span {\n",
              "  display: none;\n",
              "  z-index: 9999;\n",
              "  position: relative;\n",
              "  font-weight: normal;\n",
              "  right: .2ex;\n",
              "  padding: .5ex;\n",
              "  margin: .5ex;\n",
              "  width: min-content;\n",
              "  min-width: 20ex;\n",
              "  max-width: 50ex;\n",
              "  color: var(--sklearn-color-text);\n",
              "  box-shadow: 2pt 2pt 4pt #999;\n",
              "  /* unfitted */\n",
              "  background: var(--sklearn-color-unfitted-level-0);\n",
              "  border: .5pt solid var(--sklearn-color-unfitted-level-3);\n",
              "}\n",
              "\n",
              ".sk-estimator-doc-link.fitted span {\n",
              "  /* fitted */\n",
              "  background: var(--sklearn-color-fitted-level-0);\n",
              "  border: var(--sklearn-color-fitted-level-3);\n",
              "}\n",
              "\n",
              ".sk-estimator-doc-link:hover span {\n",
              "  display: block;\n",
              "}\n",
              "\n",
              "/* \"?\"-specific style due to the `<a>` HTML tag */\n",
              "\n",
              "#sk-container-id-1 a.estimator_doc_link {\n",
              "  float: right;\n",
              "  font-size: 1rem;\n",
              "  line-height: 1em;\n",
              "  font-family: monospace;\n",
              "  background-color: var(--sklearn-color-background);\n",
              "  border-radius: 1rem;\n",
              "  height: 1rem;\n",
              "  width: 1rem;\n",
              "  text-decoration: none;\n",
              "  /* unfitted */\n",
              "  color: var(--sklearn-color-unfitted-level-1);\n",
              "  border: var(--sklearn-color-unfitted-level-1) 1pt solid;\n",
              "}\n",
              "\n",
              "#sk-container-id-1 a.estimator_doc_link.fitted {\n",
              "  /* fitted */\n",
              "  border: var(--sklearn-color-fitted-level-1) 1pt solid;\n",
              "  color: var(--sklearn-color-fitted-level-1);\n",
              "}\n",
              "\n",
              "/* On hover */\n",
              "#sk-container-id-1 a.estimator_doc_link:hover {\n",
              "  /* unfitted */\n",
              "  background-color: var(--sklearn-color-unfitted-level-3);\n",
              "  color: var(--sklearn-color-background);\n",
              "  text-decoration: none;\n",
              "}\n",
              "\n",
              "#sk-container-id-1 a.estimator_doc_link.fitted:hover {\n",
              "  /* fitted */\n",
              "  background-color: var(--sklearn-color-fitted-level-3);\n",
              "}\n",
              "</style><div id=\"sk-container-id-1\" class=\"sk-top-container\"><div class=\"sk-text-repr-fallback\"><pre>Pipeline(steps=[(&#x27;preprocessor&#x27;,\n",
              "                 ColumnTransformer(transformers=[(&#x27;binary&#x27;,\n",
              "                                                  OneHotEncoder(drop=&#x27;if_binary&#x27;),\n",
              "                                                  [&#x27;Family_History&#x27;,\n",
              "                                                   &#x27;Radiation_Exposure&#x27;,\n",
              "                                                   &#x27;Iodine_Deficiency&#x27;,\n",
              "                                                   &#x27;Smoking&#x27;, &#x27;Obesity&#x27;,\n",
              "                                                   &#x27;Diabetes&#x27;]),\n",
              "                                                 (&#x27;categorical&#x27;,\n",
              "                                                  OneHotEncoder(drop=&#x27;first&#x27;),\n",
              "                                                  [&#x27;Gender&#x27;, &#x27;Country&#x27;,\n",
              "                                                   &#x27;Ethnicity&#x27;]),\n",
              "                                                 (&#x27;numeric&#x27;, StandardScaler(),\n",
              "                                                  [&#x27;Age&#x27;, &#x27;TSH_Level&#x27;,\n",
              "                                                   &#x27;T3_Level&#x27;, &#x27;T4_Level&#x27;,\n",
              "                                                   &#x27;Nodule_Size&#x27;])])),\n",
              "                (&#x27;classifier&#x27;,\n",
              "                 RandomForestClassifier(n_estimators=50, random_state=42))])</pre><b>In a Jupyter environment, please rerun this cell to show the HTML representation or trust the notebook. <br />On GitHub, the HTML representation is unable to render, please try loading this page with nbviewer.org.</b></div><div class=\"sk-container\" hidden><div class=\"sk-item sk-dashed-wrapped\"><div class=\"sk-label-container\"><div class=\"sk-label fitted sk-toggleable\"><input class=\"sk-toggleable__control sk-hidden--visually\" id=\"sk-estimator-id-1\" type=\"checkbox\" ><label for=\"sk-estimator-id-1\" class=\"sk-toggleable__label fitted sk-toggleable__label-arrow\"><div><div>Pipeline</div></div><div><a class=\"sk-estimator-doc-link fitted\" rel=\"noreferrer\" target=\"_blank\" href=\"https://scikit-learn.org/1.6/modules/generated/sklearn.pipeline.Pipeline.html\">?<span>Documentation for Pipeline</span></a><span class=\"sk-estimator-doc-link fitted\">i<span>Fitted</span></span></div></label><div class=\"sk-toggleable__content fitted\"><pre>Pipeline(steps=[(&#x27;preprocessor&#x27;,\n",
              "                 ColumnTransformer(transformers=[(&#x27;binary&#x27;,\n",
              "                                                  OneHotEncoder(drop=&#x27;if_binary&#x27;),\n",
              "                                                  [&#x27;Family_History&#x27;,\n",
              "                                                   &#x27;Radiation_Exposure&#x27;,\n",
              "                                                   &#x27;Iodine_Deficiency&#x27;,\n",
              "                                                   &#x27;Smoking&#x27;, &#x27;Obesity&#x27;,\n",
              "                                                   &#x27;Diabetes&#x27;]),\n",
              "                                                 (&#x27;categorical&#x27;,\n",
              "                                                  OneHotEncoder(drop=&#x27;first&#x27;),\n",
              "                                                  [&#x27;Gender&#x27;, &#x27;Country&#x27;,\n",
              "                                                   &#x27;Ethnicity&#x27;]),\n",
              "                                                 (&#x27;numeric&#x27;, StandardScaler(),\n",
              "                                                  [&#x27;Age&#x27;, &#x27;TSH_Level&#x27;,\n",
              "                                                   &#x27;T3_Level&#x27;, &#x27;T4_Level&#x27;,\n",
              "                                                   &#x27;Nodule_Size&#x27;])])),\n",
              "                (&#x27;classifier&#x27;,\n",
              "                 RandomForestClassifier(n_estimators=50, random_state=42))])</pre></div> </div></div><div class=\"sk-serial\"><div class=\"sk-item sk-dashed-wrapped\"><div class=\"sk-label-container\"><div class=\"sk-label fitted sk-toggleable\"><input class=\"sk-toggleable__control sk-hidden--visually\" id=\"sk-estimator-id-2\" type=\"checkbox\" ><label for=\"sk-estimator-id-2\" class=\"sk-toggleable__label fitted sk-toggleable__label-arrow\"><div><div>preprocessor: ColumnTransformer</div></div><div><a class=\"sk-estimator-doc-link fitted\" rel=\"noreferrer\" target=\"_blank\" href=\"https://scikit-learn.org/1.6/modules/generated/sklearn.compose.ColumnTransformer.html\">?<span>Documentation for preprocessor: ColumnTransformer</span></a></div></label><div class=\"sk-toggleable__content fitted\"><pre>ColumnTransformer(transformers=[(&#x27;binary&#x27;, OneHotEncoder(drop=&#x27;if_binary&#x27;),\n",
              "                                 [&#x27;Family_History&#x27;, &#x27;Radiation_Exposure&#x27;,\n",
              "                                  &#x27;Iodine_Deficiency&#x27;, &#x27;Smoking&#x27;, &#x27;Obesity&#x27;,\n",
              "                                  &#x27;Diabetes&#x27;]),\n",
              "                                (&#x27;categorical&#x27;, OneHotEncoder(drop=&#x27;first&#x27;),\n",
              "                                 [&#x27;Gender&#x27;, &#x27;Country&#x27;, &#x27;Ethnicity&#x27;]),\n",
              "                                (&#x27;numeric&#x27;, StandardScaler(),\n",
              "                                 [&#x27;Age&#x27;, &#x27;TSH_Level&#x27;, &#x27;T3_Level&#x27;, &#x27;T4_Level&#x27;,\n",
              "                                  &#x27;Nodule_Size&#x27;])])</pre></div> </div></div><div class=\"sk-parallel\"><div class=\"sk-parallel-item\"><div class=\"sk-item\"><div class=\"sk-label-container\"><div class=\"sk-label fitted sk-toggleable\"><input class=\"sk-toggleable__control sk-hidden--visually\" id=\"sk-estimator-id-3\" type=\"checkbox\" ><label for=\"sk-estimator-id-3\" class=\"sk-toggleable__label fitted sk-toggleable__label-arrow\"><div><div>binary</div></div></label><div class=\"sk-toggleable__content fitted\"><pre>[&#x27;Family_History&#x27;, &#x27;Radiation_Exposure&#x27;, &#x27;Iodine_Deficiency&#x27;, &#x27;Smoking&#x27;, &#x27;Obesity&#x27;, &#x27;Diabetes&#x27;]</pre></div> </div></div><div class=\"sk-serial\"><div class=\"sk-item\"><div class=\"sk-estimator fitted sk-toggleable\"><input class=\"sk-toggleable__control sk-hidden--visually\" id=\"sk-estimator-id-4\" type=\"checkbox\" ><label for=\"sk-estimator-id-4\" class=\"sk-toggleable__label fitted sk-toggleable__label-arrow\"><div><div>OneHotEncoder</div></div><div><a class=\"sk-estimator-doc-link fitted\" rel=\"noreferrer\" target=\"_blank\" href=\"https://scikit-learn.org/1.6/modules/generated/sklearn.preprocessing.OneHotEncoder.html\">?<span>Documentation for OneHotEncoder</span></a></div></label><div class=\"sk-toggleable__content fitted\"><pre>OneHotEncoder(drop=&#x27;if_binary&#x27;)</pre></div> </div></div></div></div></div><div class=\"sk-parallel-item\"><div class=\"sk-item\"><div class=\"sk-label-container\"><div class=\"sk-label fitted sk-toggleable\"><input class=\"sk-toggleable__control sk-hidden--visually\" id=\"sk-estimator-id-5\" type=\"checkbox\" ><label for=\"sk-estimator-id-5\" class=\"sk-toggleable__label fitted sk-toggleable__label-arrow\"><div><div>categorical</div></div></label><div class=\"sk-toggleable__content fitted\"><pre>[&#x27;Gender&#x27;, &#x27;Country&#x27;, &#x27;Ethnicity&#x27;]</pre></div> </div></div><div class=\"sk-serial\"><div class=\"sk-item\"><div class=\"sk-estimator fitted sk-toggleable\"><input class=\"sk-toggleable__control sk-hidden--visually\" id=\"sk-estimator-id-6\" type=\"checkbox\" ><label for=\"sk-estimator-id-6\" class=\"sk-toggleable__label fitted sk-toggleable__label-arrow\"><div><div>OneHotEncoder</div></div><div><a class=\"sk-estimator-doc-link fitted\" rel=\"noreferrer\" target=\"_blank\" href=\"https://scikit-learn.org/1.6/modules/generated/sklearn.preprocessing.OneHotEncoder.html\">?<span>Documentation for OneHotEncoder</span></a></div></label><div class=\"sk-toggleable__content fitted\"><pre>OneHotEncoder(drop=&#x27;first&#x27;)</pre></div> </div></div></div></div></div><div class=\"sk-parallel-item\"><div class=\"sk-item\"><div class=\"sk-label-container\"><div class=\"sk-label fitted sk-toggleable\"><input class=\"sk-toggleable__control sk-hidden--visually\" id=\"sk-estimator-id-7\" type=\"checkbox\" ><label for=\"sk-estimator-id-7\" class=\"sk-toggleable__label fitted sk-toggleable__label-arrow\"><div><div>numeric</div></div></label><div class=\"sk-toggleable__content fitted\"><pre>[&#x27;Age&#x27;, &#x27;TSH_Level&#x27;, &#x27;T3_Level&#x27;, &#x27;T4_Level&#x27;, &#x27;Nodule_Size&#x27;]</pre></div> </div></div><div class=\"sk-serial\"><div class=\"sk-item\"><div class=\"sk-estimator fitted sk-toggleable\"><input class=\"sk-toggleable__control sk-hidden--visually\" id=\"sk-estimator-id-8\" type=\"checkbox\" ><label for=\"sk-estimator-id-8\" class=\"sk-toggleable__label fitted sk-toggleable__label-arrow\"><div><div>StandardScaler</div></div><div><a class=\"sk-estimator-doc-link fitted\" rel=\"noreferrer\" target=\"_blank\" href=\"https://scikit-learn.org/1.6/modules/generated/sklearn.preprocessing.StandardScaler.html\">?<span>Documentation for StandardScaler</span></a></div></label><div class=\"sk-toggleable__content fitted\"><pre>StandardScaler()</pre></div> </div></div></div></div></div></div></div><div class=\"sk-item\"><div class=\"sk-estimator fitted sk-toggleable\"><input class=\"sk-toggleable__control sk-hidden--visually\" id=\"sk-estimator-id-9\" type=\"checkbox\" ><label for=\"sk-estimator-id-9\" class=\"sk-toggleable__label fitted sk-toggleable__label-arrow\"><div><div>RandomForestClassifier</div></div><div><a class=\"sk-estimator-doc-link fitted\" rel=\"noreferrer\" target=\"_blank\" href=\"https://scikit-learn.org/1.6/modules/generated/sklearn.ensemble.RandomForestClassifier.html\">?<span>Documentation for RandomForestClassifier</span></a></div></label><div class=\"sk-toggleable__content fitted\"><pre>RandomForestClassifier(n_estimators=50, random_state=42)</pre></div> </div></div></div></div></div></div>"
            ]
          },
          "metadata": {},
          "execution_count": 7
        }
      ]
    },
    {
      "cell_type": "code",
      "source": [
        "# predictions\n",
        "y_pred_logreg = logreg_pipeline.predict(X_test)\n",
        "y_pred_rf = rf_pipeline.predict(X_test)\n",
        "\n",
        "# accuracy reports for both models\n",
        "print(\"\\n=== Logistic Regression Classification Report ===\\n\")\n",
        "print(classification_report(y_test, y_pred_logreg))\n",
        "\n",
        "print(\"\\n=== Random Forest Classification Report ===\\n\")\n",
        "print(classification_report(y_test, y_pred_rf))"
      ],
      "metadata": {
        "colab": {
          "base_uri": "https://localhost:8080/"
        },
        "id": "8O5v9TnKxwsO",
        "outputId": "9969e403-e4ef-437e-edaf-8b7f16b39a75"
      },
      "execution_count": 8,
      "outputs": [
        {
          "output_type": "stream",
          "name": "stdout",
          "text": [
            "\n",
            "=== Logistic Regression Classification Report ===\n",
            "\n",
            "              precision    recall  f1-score   support\n",
            "\n",
            "           0       0.77      0.79      0.78      6381\n",
            "           1       0.58      0.96      0.72     21678\n",
            "           2       0.00      0.00      0.00     14480\n",
            "\n",
            "    accuracy                           0.61     42539\n",
            "   macro avg       0.45      0.58      0.50     42539\n",
            "weighted avg       0.41      0.61      0.48     42539\n",
            "\n",
            "\n",
            "=== Random Forest Classification Report ===\n",
            "\n",
            "              precision    recall  f1-score   support\n",
            "\n",
            "           0       1.00      1.00      1.00      6381\n",
            "           1       0.60      0.86      0.71     21678\n",
            "           2       0.40      0.14      0.21     14480\n",
            "\n",
            "    accuracy                           0.64     42539\n",
            "   macro avg       0.67      0.67      0.64     42539\n",
            "weighted avg       0.59      0.64      0.58     42539\n",
            "\n"
          ]
        },
        {
          "output_type": "stream",
          "name": "stderr",
          "text": [
            "/usr/local/lib/python3.11/dist-packages/sklearn/metrics/_classification.py:1565: UndefinedMetricWarning: Precision is ill-defined and being set to 0.0 in labels with no predicted samples. Use `zero_division` parameter to control this behavior.\n",
            "  _warn_prf(average, modifier, f\"{metric.capitalize()} is\", len(result))\n",
            "/usr/local/lib/python3.11/dist-packages/sklearn/metrics/_classification.py:1565: UndefinedMetricWarning: Precision is ill-defined and being set to 0.0 in labels with no predicted samples. Use `zero_division` parameter to control this behavior.\n",
            "  _warn_prf(average, modifier, f\"{metric.capitalize()} is\", len(result))\n",
            "/usr/local/lib/python3.11/dist-packages/sklearn/metrics/_classification.py:1565: UndefinedMetricWarning: Precision is ill-defined and being set to 0.0 in labels with no predicted samples. Use `zero_division` parameter to control this behavior.\n",
            "  _warn_prf(average, modifier, f\"{metric.capitalize()} is\", len(result))\n"
          ]
        }
      ]
    },
    {
      "cell_type": "code",
      "source": [
        "# confusion Matrix for random forest - best model\n",
        "# can also do this for linear if we wanted to\n",
        "labs = [label_encoder.transform(['High'])[0],\n",
        "                 label_encoder.transform(['Medium'])[0],\n",
        "                 label_encoder.transform(['Low'])[0]]\n",
        "\n",
        "cm = confusion_matrix(y_test, y_pred_rf, labels = labs)\n",
        "display_labels = ['High', 'Medium', 'Low']\n",
        "\n",
        "disp = ConfusionMatrixDisplay(confusion_matrix=cm,\n",
        "                               display_labels=display_labels)\n",
        "disp.plot(cmap=plt.cm.Blues)\n",
        "plt.title(\"Random Forest Confusion Matrix\")\n",
        "plt.show()"
      ],
      "metadata": {
        "colab": {
          "base_uri": "https://localhost:8080/",
          "height": 472
        },
        "id": "zSQpU-bVx0OU",
        "outputId": "5d8fbb9b-8fb6-4e2e-a2ae-94e8a10219c8"
      },
      "execution_count": 11,
      "outputs": [
        {
          "output_type": "display_data",
          "data": {
            "text/plain": [
              "<Figure size 640x480 with 2 Axes>"
            ],
            "image/png": "[encoded data removed]"
          },
          "metadata": {}
        }
      ]
    },
    {
      "cell_type": "code",
      "source": [
        "# important features in the random forest model\n",
        "rf_model = rf_pipeline.named_steps['classifier']\n",
        "feature_names = rf_pipeline.named_steps['preprocessor'].get_feature_names_out()\n",
        "importances = rf_model.feature_importances_\n",
        "\n",
        "# get top n = 5 features in the model and plot\n",
        "# can maybe make this a vertical bar graph\n",
        "top_indices = np.argsort(importances)[-5:]\n",
        "top_features = feature_names[top_indices]\n",
        "top_importances = importances[top_indices]\n",
        "\n",
        "plt.figure(figsize=(8, 6))\n",
        "sns.barplot(x=top_importances, y=top_features)\n",
        "plt.title('Top 5 Feature Importances (Random Forest)')\n",
        "plt.xlabel('Importance')\n",
        "plt.ylabel('Feature')\n",
        "plt.tight_layout()\n",
        "plt.show()"
      ],
      "metadata": {
        "colab": {
          "base_uri": "https://localhost:8080/",
          "height": 497
        },
        "id": "ViuoKSFcx5M0",
        "outputId": "f101cb66-3db8-4e7a-a9e3-6a8901cf236a"
      },
      "execution_count": 10,
      "outputs": [
        {
          "output_type": "display_data",
          "data": {
            "text/plain": [
              "<Figure size 800x600 with 1 Axes>"
            ],
            "image/png": "[encoded data removed]"
          },
          "metadata": {}
        }
      ]
    }
  ]
}